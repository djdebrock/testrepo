{
    "cells": [
        {
            "cell_type": "markdown",
            "metadata": {
                "collapsed": true
            },
            "source": "# Capston Final Project"
        },
        {
            "cell_type": "markdown",
            "metadata": {},
            "source": "## Introduction/Business Problem"
        },
        {
            "cell_type": "markdown",
            "metadata": {},
            "source": "My wife is looking to open a restuarant in Portland OR. She would like me to analyze the neighborhoods through clustering and determine the best neighborhood to open her restuarant."
        },
        {
            "cell_type": "markdown",
            "metadata": {},
            "source": "## Describe the data"
        },
        {
            "cell_type": "markdown",
            "metadata": {},
            "source": "I will use the geopy library to determine the latitude and logitude of Portlan OR.\n<br>\nUsing the longitude and latitude I will use foursquare api to gather venue information in a certain radius from each neighborhood.\n<br>\nI will use the venue data to group the venues by venue category.\n<br>\nI can then use the venue categories by neighboorhood to analyze the neighborhoods further.\n<br>\nI can then create a data frame for each neighborhood for the most common venue to the 10th most common venue.\n<br>\nK-means clustering can be run against this dataframe to cluster the data and determine the best neighborhood for our restuarant location."
        }
    ],
    "metadata": {
        "kernelspec": {
            "display_name": "Python 3.7",
            "language": "python",
            "name": "python3"
        },
        "language_info": {
            "codemirror_mode": {
                "name": "ipython",
                "version": 3
            },
            "file_extension": ".py",
            "mimetype": "text/x-python",
            "name": "python",
            "nbconvert_exporter": "python",
            "pygments_lexer": "ipython3",
            "version": "3.7.10"
        }
    },
    "nbformat": 4,
    "nbformat_minor": 1
}