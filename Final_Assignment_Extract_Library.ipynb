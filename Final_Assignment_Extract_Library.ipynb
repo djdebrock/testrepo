{
    "cells": [
        {
            "metadata": {},
            "cell_type": "markdown",
            "source": "<center>\n    <img src=\"https://s3-api.us-geo.objectstorage.softlayer.net/cf-courses-data/CognitiveClass/Logos/organization_logo/organization_logo.png\" width=\"300\" alt=\"cognitiveclass.ai logo\"  />\n</center>\n"
        },
        {
            "metadata": {},
            "cell_type": "markdown",
            "source": "<h1>Extracting Stock Data Using a Python Library</h1>\n"
        },
        {
            "metadata": {},
            "cell_type": "markdown",
            "source": "A company's stock share is a piece of the company more precisely:\n\n<p><b>A stock (also known as equity) is a security that represents the ownership\u00a0of a fraction of a\u00a0corporation. This\nentitles the owner of the stock to a proportion of the corporation's\u00a0assets\u00a0and profits equal to how much stock they own.\u00a0Units of stock are called \"shares.\" [1]</p></b>\n\nAn investor can buy a stock and sell it later. If the stock price increases, the investor profits, If it decreases,the investor with incur a loss.\u00a0\u00a0Determining the stock price is complex; it depends on the number of outstanding shares, the size of the company's future profits, and much more. People trade stocks throughout the day the stock ticker\u00a0is a report of the price of a certain stock, updated continuously throughout the trading session by the various\u00a0stock\u00a0market exchanges. \n\n<p>You are a data scientist working for a hedge fund; it's your job to determine any suspicious stock activity. In this lab you will extract stock data using a Python library. We will use the <coode>yfinance</code> library, it allows us to extract data for stocks returning data in a pandas dataframe. You will use the lab to extract.</p>\n"
        },
        {
            "metadata": {},
            "cell_type": "markdown",
            "source": "<h2>Table of Contents</h2>\n<div class=\"alert alert-block alert-info\" style=\"margin-top: 20px\">\n    <ul>\n        <li>Using yfinance to Extract Stock Info</li>\n        <li>Using yfinance to Extract Historical Share Price Data</li>\n        <li>Using yfinance to Extract Historical Dividends Data</li>\n        <li>Exercise</li>\n    </ul>\n<p>\n    Estimated Time Needed: <strong>30 min</strong></p>\n</div>\n\n<hr>\n"
        },
        {
            "metadata": {},
            "cell_type": "code",
            "source": "!pip install yfinance\n#!pip install pandas",
            "execution_count": 1,
            "outputs": [
                {
                    "output_type": "stream",
                    "text": "/opt/conda/envs/Python-3.7-main/lib/python3.7/site-packages/secretstorage/dhcrypto.py:16: CryptographyDeprecationWarning: int_from_bytes is deprecated, use int.from_bytes instead\n  from cryptography.utils import int_from_bytes\n/opt/conda/envs/Python-3.7-main/lib/python3.7/site-packages/secretstorage/util.py:25: CryptographyDeprecationWarning: int_from_bytes is deprecated, use int.from_bytes instead\n  from cryptography.utils import int_from_bytes\nCollecting yfinance\n  Downloading yfinance-0.1.59.tar.gz (25 kB)\nRequirement already satisfied: pandas>=0.24 in /opt/conda/envs/Python-3.7-main/lib/python3.7/site-packages (from yfinance) (1.0.5)\nRequirement already satisfied: numpy>=1.15 in /opt/conda/envs/Python-3.7-main/lib/python3.7/site-packages (from yfinance) (1.18.5)\nRequirement already satisfied: requests>=2.20 in /opt/conda/envs/Python-3.7-main/lib/python3.7/site-packages (from yfinance) (2.24.0)\nCollecting multitasking>=0.0.7\n  Downloading multitasking-0.0.9.tar.gz (8.1 kB)\nRequirement already satisfied: lxml>=4.5.1 in /opt/conda/envs/Python-3.7-main/lib/python3.7/site-packages (from yfinance) (4.5.1)\nRequirement already satisfied: pytz>=2017.2 in /opt/conda/envs/Python-3.7-main/lib/python3.7/site-packages (from pandas>=0.24->yfinance) (2020.1)\nRequirement already satisfied: python-dateutil>=2.6.1 in /opt/conda/envs/Python-3.7-main/lib/python3.7/site-packages (from pandas>=0.24->yfinance) (2.8.1)\nRequirement already satisfied: certifi>=2017.4.17 in /opt/conda/envs/Python-3.7-main/lib/python3.7/site-packages (from requests>=2.20->yfinance) (2020.12.5)\nRequirement already satisfied: idna<3,>=2.5 in /opt/conda/envs/Python-3.7-main/lib/python3.7/site-packages (from requests>=2.20->yfinance) (2.9)\nRequirement already satisfied: urllib3!=1.25.0,!=1.25.1,<1.26,>=1.21.1 in /opt/conda/envs/Python-3.7-main/lib/python3.7/site-packages (from requests>=2.20->yfinance) (1.25.9)\nRequirement already satisfied: chardet<4,>=3.0.2 in /opt/conda/envs/Python-3.7-main/lib/python3.7/site-packages (from requests>=2.20->yfinance) (3.0.4)\nRequirement already satisfied: six>=1.5 in /opt/conda/envs/Python-3.7-main/lib/python3.7/site-packages (from python-dateutil>=2.6.1->pandas>=0.24->yfinance) (1.15.0)\nBuilding wheels for collected packages: yfinance, multitasking\n  Building wheel for yfinance (setup.py) ... \u001b[?25ldone\n\u001b[?25h  Created wheel for yfinance: filename=yfinance-0.1.59-py2.py3-none-any.whl size=23442 sha256=03e982dd5faadc9b70d55148520220ddb5171d8141fb1d0328691e4e8d70652d\n  Stored in directory: /tmp/wsuser/.cache/pip/wheels/26/af/8b/fac1b47dffef567f945641cdc9b67bb25fae5725d462a8cf81\n  Building wheel for multitasking (setup.py) ... \u001b[?25ldone\n\u001b[?25h  Created wheel for multitasking: filename=multitasking-0.0.9-py3-none-any.whl size=8366 sha256=83c5c7c980d11b5acf9a15813d2c76d2e15a3125069eaa5dde2fefcde98e3eef\n  Stored in directory: /tmp/wsuser/.cache/pip/wheels/ae/25/47/4d68431a7ec1b6c4b5233365934b74c1d4e665bf5f968d363a\nSuccessfully built yfinance multitasking\nInstalling collected packages: multitasking, yfinance\nSuccessfully installed multitasking-0.0.9 yfinance-0.1.59\n",
                    "name": "stdout"
                }
            ]
        },
        {
            "metadata": {},
            "cell_type": "code",
            "source": "import yfinance as yf\nimport pandas as pd",
            "execution_count": 2,
            "outputs": []
        },
        {
            "metadata": {},
            "cell_type": "markdown",
            "source": "## Using the yfinance Library to Extract Stock Data\n"
        },
        {
            "metadata": {},
            "cell_type": "markdown",
            "source": "Using the `Ticker` module we can create an object that will allow us to access functions to extract data. To do this we need to provide the ticker symbol for the stock, here the company is Apple and the ticker symbol is `AAPL`.\n"
        },
        {
            "metadata": {},
            "cell_type": "code",
            "source": "apple = yf.Ticker(\"AAPL\")",
            "execution_count": 3,
            "outputs": []
        },
        {
            "metadata": {},
            "cell_type": "markdown",
            "source": "Now we can access functions and variables to extract the type of data we need. You can view them and what they represent here [https://aroussi.com/post/python-yahoo-finance](https://aroussi.com/post/python-yahoo-finance?cm_mmc=Email_Newsletter-_-Developer_Ed%2BTech-_-WW_WW-_-SkillsNetwork-Courses-IBMDeveloperSkillsNetwork-PY0220EN-SkillsNetwork-23455606&cm_mmca1=000026UJ&cm_mmca2=10006555&cm_mmca3=M12345678&cvosrc=email.Newsletter.M12345678&cvo_campaign=000026UJ&cm_mmc=Email_Newsletter-_-Developer_Ed%2BTech-_-WW_WW-_-SkillsNetwork-Courses-IBMDeveloperSkillsNetwork-PY0220EN-SkillsNetwork-23455606&cm_mmca1=000026UJ&cm_mmca2=10006555&cm_mmca3=M12345678&cvosrc=email.Newsletter.M12345678&cvo_campaign=000026UJ).\n"
        },
        {
            "metadata": {},
            "cell_type": "markdown",
            "source": "### Stock Info\n"
        },
        {
            "metadata": {},
            "cell_type": "markdown",
            "source": "Using the attribute  <code>info</code> we can extract information about the stock as a Python dictionary.\n"
        },
        {
            "metadata": {},
            "cell_type": "code",
            "source": "apple_info=apple.info\napple_info",
            "execution_count": 4,
            "outputs": [
                {
                    "output_type": "execute_result",
                    "execution_count": 4,
                    "data": {
                        "text/plain": "{'zip': '95014',\n 'sector': 'Technology',\n 'fullTimeEmployees': 147000,\n 'longBusinessSummary': 'Apple Inc. designs, manufactures, and markets smartphones, personal computers, tablets, wearables, and accessories worldwide. It also sells various related services. The company offers iPhone, a line of smartphones; Mac, a line of personal computers; iPad, a line of multi-purpose tablets; and wearables, home, and accessories comprising AirPods, Apple TV, Apple Watch, Beats products, HomePod, iPod touch, and other Apple-branded and third-party accessories. It also provides AppleCare support services; cloud services store services; and operates various platforms, including the App Store, that allow customers to discover and download applications and digital content, such as books, music, video, games, and podcasts. In addition, the company offers various services, such as Apple Arcade, a game subscription service; Apple Music, which offers users a curated listening experience with on-demand radio stations; Apple News+, a subscription news and magazine service; Apple TV+, which offers exclusive original content; Apple Card, a co-branded credit card; and Apple Pay, a cashless payment service, as well as licenses its intellectual property. The company serves consumers, and small and mid-sized businesses; and the education, enterprise, and government markets. It sells and delivers third-party applications for its products through the App Store. The company also sells its products through its retail and online stores, and direct sales force; and third-party cellular network carriers, wholesalers, retailers, and resellers. Apple Inc. was founded in 1977 and is headquartered in Cupertino, California.',\n 'city': 'Cupertino',\n 'phone': '408-996-1010',\n 'state': 'CA',\n 'country': 'United States',\n 'companyOfficers': [],\n 'website': 'http://www.apple.com',\n 'maxAge': 1,\n 'address1': 'One Apple Park Way',\n 'industry': 'Consumer Electronics',\n 'previousClose': 134.84,\n 'regularMarketOpen': 135.02,\n 'twoHundredDayAverage': 124.8428,\n 'trailingAnnualDividendYield': 0.005984871,\n 'payoutRatio': 0.2177,\n 'volume24Hr': None,\n 'regularMarketDayHigh': 135.53,\n 'navPrice': None,\n 'averageDailyVolume10Day': 89678500,\n 'totalAssets': None,\n 'regularMarketPreviousClose': 134.84,\n 'fiftyDayAverage': 124.87457,\n 'trailingAnnualDividendRate': 0.807,\n 'open': 135.02,\n 'toCurrency': None,\n 'averageVolume10days': 89678500,\n 'expireDate': None,\n 'yield': None,\n 'algorithm': None,\n 'dividendRate': 0.82,\n 'exDividendDate': 1612483200,\n 'beta': 1.219525,\n 'circulatingSupply': None,\n 'startDate': None,\n 'regularMarketDayLow': 131.8115,\n 'priceHint': 2,\n 'currency': 'USD',\n 'trailingPE': 36.102524,\n 'regularMarketVolume': 93002207,\n 'lastMarket': None,\n 'maxSupply': None,\n 'openInterest': None,\n 'marketCap': 2234664091648,\n 'volumeAllCurrencies': None,\n 'strikePrice': None,\n 'averageVolume': 106372001,\n 'priceToSalesTrailing12Months': 7.5974097,\n 'dayLow': 131.8115,\n 'ask': 132.63,\n 'ytdReturn': None,\n 'askSize': 1100,\n 'volume': 93002207,\n 'fiftyTwoWeekHigh': 145.09,\n 'forwardPE': 28.321278,\n 'fromCurrency': None,\n 'fiveYearAvgDividendYield': 1.39,\n 'fiftyTwoWeekLow': 66.3575,\n 'bid': 132.58,\n 'tradeable': False,\n 'dividendYield': 0.0061000003,\n 'bidSize': 1400,\n 'dayHigh': 135.53,\n 'exchange': 'NMS',\n 'shortName': 'Apple Inc.',\n 'longName': 'Apple Inc.',\n 'exchangeTimezoneName': 'America/New_York',\n 'exchangeTimezoneShortName': 'EDT',\n 'isEsgPopulated': False,\n 'gmtOffSetMilliseconds': '-14400000',\n 'quoteType': 'EQUITY',\n 'symbol': 'AAPL',\n 'messageBoardId': 'finmb_24937',\n 'market': 'us_market',\n 'annualHoldingsTurnover': None,\n 'enterpriseToRevenue': 7.816,\n 'beta3Year': None,\n 'profitMargins': 0.21735,\n 'enterpriseToEbitda': 26.996,\n '52WeekChange': 1.0097625,\n 'morningStarRiskRating': None,\n 'forwardEps': 4.7,\n 'revenueQuarterlyGrowth': None,\n 'sharesOutstanding': 16788100096,\n 'fundInceptionDate': None,\n 'annualReportExpenseRatio': None,\n 'bookValue': 3.936,\n 'sharesShort': 101484668,\n 'sharesPercentSharesOut': 0.006,\n 'fundFamily': None,\n 'lastFiscalYearEnd': 1601078400,\n 'heldPercentInstitutions': 0.59805,\n 'netIncomeToCommon': 63929999360,\n 'trailingEps': 3.687,\n 'lastDividendValue': 0.205,\n 'SandP52WeekChange': 0.521348,\n 'priceToBook': 33.818596,\n 'heldPercentInsiders': 0.00075999997,\n 'nextFiscalYearEnd': 1664150400,\n 'mostRecentQuarter': 1608940800,\n 'shortRatio': 0.88,\n 'sharesShortPreviousMonthDate': 1614297600,\n 'floatShares': 16770636380,\n 'enterpriseValue': 2298923974656,\n 'threeYearAverageReturn': None,\n 'lastSplitDate': 1598832000,\n 'lastSplitFactor': '4:1',\n 'legalType': None,\n 'lastDividendDate': 1612483200,\n 'morningStarOverallRating': None,\n 'earningsQuarterlyGrowth': 0.293,\n 'dateShortInterest': 1617148800,\n 'pegRatio': 2.05,\n 'lastCapGain': None,\n 'shortPercentOfFloat': 0.006,\n 'sharesShortPriorMonth': 100799312,\n 'impliedSharesOutstanding': None,\n 'category': None,\n 'fiveYearAverageReturn': None,\n 'regularMarketPrice': 133.11,\n 'logo_url': 'https://logo.clearbit.com/apple.com'}"
                    },
                    "metadata": {}
                }
            ]
        },
        {
            "metadata": {},
            "cell_type": "markdown",
            "source": "We can get the <code>'country'</code> using the key country\n"
        },
        {
            "metadata": {},
            "cell_type": "code",
            "source": "apple_info['country']",
            "execution_count": 5,
            "outputs": [
                {
                    "output_type": "execute_result",
                    "execution_count": 5,
                    "data": {
                        "text/plain": "'United States'"
                    },
                    "metadata": {}
                }
            ]
        },
        {
            "metadata": {},
            "cell_type": "markdown",
            "source": "### Extracting Share Price\n"
        },
        {
            "metadata": {},
            "cell_type": "markdown",
            "source": "A share is the single smallest part of a company's stock  that you can buy, the prices of these shares fluctuate over time. Using the <code>history()</code> method we can get the share price of the stock over a certain period of time. Using the `period` parameter we can set how far back from the present to get data. The options for `period` are 1 day (1d), 5d, 1 month (1mo) , 3mo, 6mo, 1 year (1y), 2y, 5y, 10y, ytd, and max.\n"
        },
        {
            "metadata": {},
            "cell_type": "code",
            "source": "apple_share_price_data = apple.history(period=\"max\")",
            "execution_count": 6,
            "outputs": []
        },
        {
            "metadata": {},
            "cell_type": "markdown",
            "source": "The format that the data is returned in is a Pandas DataFrame. With the `Date` as the index the share `Open`, `High`, `Low`, `Close`, `Volume`, and `Stock Splits` are given for each day.\n"
        },
        {
            "metadata": {},
            "cell_type": "code",
            "source": "apple_share_price_data.head()",
            "execution_count": 7,
            "outputs": [
                {
                    "output_type": "execute_result",
                    "execution_count": 7,
                    "data": {
                        "text/plain": "                Open      High       Low     Close     Volume  Dividends  \\\nDate                                                                       \n1980-12-12  0.100922  0.101361  0.100922  0.100922  469033600        0.0   \n1980-12-15  0.096096  0.096096  0.095657  0.095657  175884800        0.0   \n1980-12-16  0.089075  0.089075  0.088636  0.088636  105728000        0.0   \n1980-12-17  0.090830  0.091268  0.090830  0.090830   86441600        0.0   \n1980-12-18  0.093463  0.093902  0.093463  0.093463   73449600        0.0   \n\n            Stock Splits  \nDate                      \n1980-12-12           0.0  \n1980-12-15           0.0  \n1980-12-16           0.0  \n1980-12-17           0.0  \n1980-12-18           0.0  ",
                        "text/html": "<div>\n<style scoped>\n    .dataframe tbody tr th:only-of-type {\n        vertical-align: middle;\n    }\n\n    .dataframe tbody tr th {\n        vertical-align: top;\n    }\n\n    .dataframe thead th {\n        text-align: right;\n    }\n</style>\n<table border=\"1\" class=\"dataframe\">\n  <thead>\n    <tr style=\"text-align: right;\">\n      <th></th>\n      <th>Open</th>\n      <th>High</th>\n      <th>Low</th>\n      <th>Close</th>\n      <th>Volume</th>\n      <th>Dividends</th>\n      <th>Stock Splits</th>\n    </tr>\n    <tr>\n      <th>Date</th>\n      <th></th>\n      <th></th>\n      <th></th>\n      <th></th>\n      <th></th>\n      <th></th>\n      <th></th>\n    </tr>\n  </thead>\n  <tbody>\n    <tr>\n      <th>1980-12-12</th>\n      <td>0.100922</td>\n      <td>0.101361</td>\n      <td>0.100922</td>\n      <td>0.100922</td>\n      <td>469033600</td>\n      <td>0.0</td>\n      <td>0.0</td>\n    </tr>\n    <tr>\n      <th>1980-12-15</th>\n      <td>0.096096</td>\n      <td>0.096096</td>\n      <td>0.095657</td>\n      <td>0.095657</td>\n      <td>175884800</td>\n      <td>0.0</td>\n      <td>0.0</td>\n    </tr>\n    <tr>\n      <th>1980-12-16</th>\n      <td>0.089075</td>\n      <td>0.089075</td>\n      <td>0.088636</td>\n      <td>0.088636</td>\n      <td>105728000</td>\n      <td>0.0</td>\n      <td>0.0</td>\n    </tr>\n    <tr>\n      <th>1980-12-17</th>\n      <td>0.090830</td>\n      <td>0.091268</td>\n      <td>0.090830</td>\n      <td>0.090830</td>\n      <td>86441600</td>\n      <td>0.0</td>\n      <td>0.0</td>\n    </tr>\n    <tr>\n      <th>1980-12-18</th>\n      <td>0.093463</td>\n      <td>0.093902</td>\n      <td>0.093463</td>\n      <td>0.093463</td>\n      <td>73449600</td>\n      <td>0.0</td>\n      <td>0.0</td>\n    </tr>\n  </tbody>\n</table>\n</div>"
                    },
                    "metadata": {}
                }
            ]
        },
        {
            "metadata": {},
            "cell_type": "markdown",
            "source": "We can reset the index of the DataFrame with the `reset_index` function. We also set the `inplace` paramter to `True` so the change takes place to the DataFrame itself.\n"
        },
        {
            "metadata": {},
            "cell_type": "code",
            "source": "apple_share_price_data.reset_index(inplace=True)",
            "execution_count": 8,
            "outputs": []
        },
        {
            "metadata": {},
            "cell_type": "markdown",
            "source": "We can plot the `Open` price against the `Date`:\n"
        },
        {
            "metadata": {},
            "cell_type": "code",
            "source": "apple_share_price_data.plot(x=\"Date\", y=\"Open\")",
            "execution_count": 9,
            "outputs": [
                {
                    "output_type": "execute_result",
                    "execution_count": 9,
                    "data": {
                        "text/plain": "<matplotlib.axes._subplots.AxesSubplot at 0x7f3b72092b50>"
                    },
                    "metadata": {}
                },
                {
                    "output_type": "display_data",
                    "data": {
                        "text/plain": "<Figure size 432x288 with 1 Axes>",
                        "image/png": "[encoded data removed]"
                    },
                    "metadata": {
                        "needs_background": "light"
                    }
                }
            ]
        },
        {
            "metadata": {},
            "cell_type": "markdown",
            "source": "### Extracting Dividends\n"
        },
        {
            "metadata": {},
            "cell_type": "markdown",
            "source": "Dividends are the distribution of a companys profits to shareholders. In this case they are defined as an amount of money returned per share an investor owns. Using the variable `dividends` we can get a dataframe of the data. The period of the data is given by the period defined in the 'history` function.\n"
        },
        {
            "metadata": {},
            "cell_type": "code",
            "source": "apple.dividends",
            "execution_count": 10,
            "outputs": [
                {
                    "output_type": "execute_result",
                    "execution_count": 10,
                    "data": {
                        "text/plain": "Date\n1987-05-11    0.000536\n1987-08-10    0.000536\n1987-11-17    0.000714\n1988-02-12    0.000714\n1988-05-16    0.000714\n                ...   \n2020-02-07    0.192500\n2020-05-08    0.205000\n2020-08-07    0.205000\n2020-11-06    0.205000\n2021-02-05    0.205000\nName: Dividends, Length: 70, dtype: float64"
                    },
                    "metadata": {}
                }
            ]
        },
        {
            "metadata": {},
            "cell_type": "markdown",
            "source": "We can plot the dividends overtime:\n"
        },
        {
            "metadata": {},
            "cell_type": "code",
            "source": "apple.dividends.plot()",
            "execution_count": 11,
            "outputs": [
                {
                    "output_type": "execute_result",
                    "execution_count": 11,
                    "data": {
                        "text/plain": "<matplotlib.axes._subplots.AxesSubplot at 0x7f3b71545950>"
                    },
                    "metadata": {}
                },
                {
                    "output_type": "display_data",
                    "data": {
                        "text/plain": "<Figure size 432x288 with 1 Axes>",
                        "image/png": "[encoded data removed]"
                    },
                    "metadata": {
                        "needs_background": "light"
                    }
                }
            ]
        },
        {
            "metadata": {},
            "cell_type": "markdown",
            "source": "## Exercise\n"
        },
        {
            "metadata": {},
            "cell_type": "markdown",
            "source": "Now using the `Ticker` module create an object for AMD (Advanced Micro Devices) with the ticker symbol is `AMD` called; name the object <code>amd</code>.\n"
        },
        {
            "metadata": {},
            "cell_type": "code",
            "source": "amd = yf.Ticker(\"AMD\")\namd_info=amd.info\namd_info",
            "execution_count": 14,
            "outputs": [
                {
                    "output_type": "execute_result",
                    "execution_count": 14,
                    "data": {
                        "text/plain": "{'zip': '95054',\n 'sector': 'Technology',\n 'fullTimeEmployees': 12600,\n 'longBusinessSummary': 'Advanced Micro Devices, Inc. operates as a semiconductor company worldwide. The company operates in two segments, Computing and Graphics; and Enterprise, Embedded and Semi-Custom. Its products include x86 microprocessors as an accelerated processing unit, chipsets, discrete and integrated graphics processing units (GPUs), data center and professional GPUs, and development services; and server and embedded processors, and semi-custom System-on-Chip (SoC) products, development services, and technology for game consoles. The company provides x86 microprocessors for desktop PCs under the AMD Ryzen, AMD Ryzen PRO, Ryzen, Threadripper, AMD A-Series, AMD FX, AMD Athlon, AMD Athlon PRO, and AMD Pro A-Series processors brands; microprocessors for notebook and 2-in-1s under the AMD Ryzen, AMD A-Series, AMD Athlon, AMD Ryzen PRO, AMD Athlon PRO, and AMD Pro A-Series processors brands; microprocessors for servers under the AMD EPYC and AMD Opteron brands; and chipsets under the AMD trademark. It also offers discrete GPUs for desktop and notebook PCs under the AMD Radeon graphics and AMD Embedded Radeon brands; professional graphics products under the AMD Radeon Pro and AMD FirePro graphics brands; and Radeon Instinct and AMD Instinct accelerators for servers. In addition, the company provides embedded processor solutions under the AMD Opteron, AMD Athlon, AMD Geode, AMD Ryzen, AMD EPYC, AMD R-Series, and G-Series processors brands; and customer-specific solutions based on AMD CPU, GPU, and multi-media technologies, as well as semi-custom SoC products. It serves original equipment manufacturers, public cloud service providers, original design manufacturers, system integrators, independent distributors, online retailers, and add-in-board manufacturers through its direct sales force, independent distributors, and sales representatives. Advanced Micro Devices, Inc. was founded in 1969 and is headquartered in Santa Clara, California.',\n 'city': 'Santa Clara',\n 'phone': '408 749 4000',\n 'state': 'CA',\n 'country': 'United States',\n 'companyOfficers': [],\n 'website': 'http://www.amd.com',\n 'maxAge': 1,\n 'address1': '2485 Augustine Drive',\n 'industry': 'Semiconductors',\n 'previousClose': 81.11,\n 'regularMarketOpen': 80.82,\n 'twoHundredDayAverage': 85.78022,\n 'trailingAnnualDividendYield': None,\n 'payoutRatio': 0,\n 'volume24Hr': None,\n 'regularMarketDayHigh': 81.11,\n 'navPrice': None,\n 'averageDailyVolume10Day': 48231466,\n 'totalAssets': None,\n 'regularMarketPreviousClose': 81.11,\n 'fiftyDayAverage': 80.03686,\n 'trailingAnnualDividendRate': None,\n 'open': 80.82,\n 'toCurrency': None,\n 'averageVolume10days': 48231466,\n 'expireDate': None,\n 'yield': None,\n 'algorithm': None,\n 'dividendRate': None,\n 'exDividendDate': 798940800,\n 'beta': 2.055708,\n 'circulatingSupply': None,\n 'startDate': None,\n 'regularMarketDayLow': 78.515,\n 'priceHint': 2,\n 'currency': 'USD',\n 'trailingPE': 38.40601,\n 'regularMarketVolume': 34674511,\n 'lastMarket': None,\n 'maxSupply': None,\n 'openInterest': None,\n 'marketCap': 96282132480,\n 'volumeAllCurrencies': None,\n 'strikePrice': None,\n 'averageVolume': 43479758,\n 'priceToSalesTrailing12Months': 9.861941,\n 'dayLow': 78.515,\n 'ask': 79.03,\n 'ytdReturn': None,\n 'askSize': 1300,\n 'volume': 34674511,\n 'fiftyTwoWeekHigh': 99.23,\n 'forwardPE': 31.332014,\n 'fromCurrency': None,\n 'fiveYearAvgDividendYield': None,\n 'fiftyTwoWeekLow': 48.42,\n 'bid': 78.94,\n 'tradeable': False,\n 'dividendYield': None,\n 'bidSize': 1200,\n 'dayHigh': 81.11,\n 'exchange': 'NMS',\n 'shortName': 'Advanced Micro Devices, Inc.',\n 'longName': 'Advanced Micro Devices, Inc.',\n 'exchangeTimezoneName': 'America/New_York',\n 'exchangeTimezoneShortName': 'EDT',\n 'isEsgPopulated': False,\n 'gmtOffSetMilliseconds': '-14400000',\n 'quoteType': 'EQUITY',\n 'symbol': 'AMD',\n 'messageBoardId': 'finmb_168864',\n 'market': 'us_market',\n 'annualHoldingsTurnover': None,\n 'enterpriseToRevenue': 9.887,\n 'beta3Year': None,\n 'profitMargins': 0.25504,\n 'enterpriseToEbitda': 57.424,\n '52WeekChange': 0.5326909,\n 'morningStarRiskRating': None,\n 'forwardEps': 2.53,\n 'revenueQuarterlyGrowth': None,\n 'sharesOutstanding': 1211320064,\n 'fundInceptionDate': None,\n 'annualReportExpenseRatio': None,\n 'bookValue': 4.82,\n 'sharesShort': 81563521,\n 'sharesPercentSharesOut': 0.0672,\n 'fundFamily': None,\n 'lastFiscalYearEnd': 1608940800,\n 'heldPercentInstitutions': 0.77419,\n 'netIncomeToCommon': 2489999872,\n 'trailingEps': 2.064,\n 'lastDividendValue': None,\n 'SandP52WeekChange': 0.521348,\n 'priceToBook': 16.446056,\n 'heldPercentInsiders': 0.0057599996,\n 'nextFiscalYearEnd': 1672012800,\n 'mostRecentQuarter': 1608940800,\n 'shortRatio': 1.86,\n 'sharesShortPreviousMonthDate': 1614297600,\n 'floatShares': 1204545292,\n 'enterpriseValue': 96528924672,\n 'threeYearAverageReturn': None,\n 'lastSplitDate': 966902400,\n 'lastSplitFactor': '2:1',\n 'legalType': None,\n 'lastDividendDate': None,\n 'morningStarOverallRating': None,\n 'earningsQuarterlyGrowth': 9.476,\n 'dateShortInterest': 1617148800,\n 'pegRatio': 1.58,\n 'lastCapGain': None,\n 'shortPercentOfFloat': 0.0675,\n 'sharesShortPriorMonth': 79247010,\n 'impliedSharesOutstanding': None,\n 'category': None,\n 'fiveYearAverageReturn': None,\n 'regularMarketPrice': 79.27,\n 'logo_url': 'https://logo.clearbit.com/amd.com'}"
                    },
                    "metadata": {}
                }
            ]
        },
        {
            "metadata": {},
            "cell_type": "markdown",
            "source": "<b>Question 1</b> Use the key  <code>'country'</code> to find the country the stock belongs to, remember it as it will be a quiz question.\n"
        },
        {
            "metadata": {},
            "cell_type": "code",
            "source": "amd_info['country']",
            "execution_count": 15,
            "outputs": [
                {
                    "output_type": "execute_result",
                    "execution_count": 15,
                    "data": {
                        "text/plain": "'United States'"
                    },
                    "metadata": {}
                }
            ]
        },
        {
            "metadata": {},
            "cell_type": "markdown",
            "source": "<b>Question 2</b> Use the key  <code>'sector'</code> to find the sector the stock belongs to, remember it as it will be a quiz question.\n"
        },
        {
            "metadata": {},
            "cell_type": "code",
            "source": "amd_info['sector']",
            "execution_count": 16,
            "outputs": [
                {
                    "output_type": "execute_result",
                    "execution_count": 16,
                    "data": {
                        "text/plain": "'Technology'"
                    },
                    "metadata": {}
                }
            ]
        },
        {
            "metadata": {},
            "cell_type": "markdown",
            "source": "<b>Question 3</b> Find the max of the <code>Volume</code> column of AMD using the `history` function, set the <code>period</code> to max.\n"
        },
        {
            "metadata": {},
            "cell_type": "code",
            "source": "amd_share_price_data = amd.history(period=\"max\")\namd_share_price_data['Volume'].max()",
            "execution_count": 18,
            "outputs": [
                {
                    "output_type": "execute_result",
                    "execution_count": 18,
                    "data": {
                        "text/plain": "325058400"
                    },
                    "metadata": {}
                }
            ]
        },
        {
            "metadata": {},
            "cell_type": "markdown",
            "source": "<h2>About the Authors:</h2> \n\n<a href=\"https://www.linkedin.com/in/joseph-s-50398b136/\">Joseph Santarcangelo</a> has a PhD in Electrical Engineering, his research focused on using machine learning, signal processing, and computer vision to determine how videos impact human cognition. Joseph has been working for IBM since he completed his PhD.\n\nAzim Hirjani\n"
        },
        {
            "metadata": {},
            "cell_type": "markdown",
            "source": "## Change Log\n\n| Date (YYYY-MM-DD) | Version | Changed By    | Change Description        |\n| ----------------- | ------- | ------------- | ------------------------- |\n| 2020-11-10        | 1.1     | Malika Singla | Deleted the Optional part |\n| 2020-08-27        | 1.0     | Malika Singla | Added lab to GitLab       |\n\n<hr>\n\n## <h3 align=\"center\"> \u00a9 IBM Corporation 2020. All rights reserved. <h3/>\n\n<p>\n"
        }
    ],
    "metadata": {
        "kernelspec": {
            "name": "python3",
            "display_name": "Python 3.7",
            "language": "python"
        },
        "language_info": {
            "name": "python",
            "version": "3.7.10",
            "mimetype": "text/x-python",
            "codemirror_mode": {
                "name": "ipython",
                "version": 3
            },
            "pygments_lexer": "ipython3",
            "nbconvert_exporter": "python",
            "file_extension": ".py"
        }
    },
    "nbformat": 4,
    "nbformat_minor": 4
}